{
 "cells": [
  {
   "cell_type": "code",
   "execution_count": 38,
   "metadata": {},
   "outputs": [],
   "source": [
    "# from hmmlearn import hmm\n",
    "%matplotlib inline\n",
    "import numpy as np\n",
    "import pandas as pd\n",
    "from collections import defaultdict\n",
    "import datetime\n",
    "# import pykovy-master/ \n",
    "from pykovy.src.pykovy import chain\n",
    "import matplotlib.pyplot as plt\n",
    "from time import time\n",
    "import networkx as nx\n",
    "import math"
   ]
  },
  {
   "cell_type": "code",
   "execution_count": 3,
   "metadata": {},
   "outputs": [],
   "source": [
    "\n",
    "# np.random.seed(42)\n",
    "\n",
    "# model = hmm.GaussianHMM(n_components=3, covariance_type=\"full\")\n",
    "# model.startprob_ = np.array([0.6, 0.3, 0.1])\n",
    "# model.transmat_ = np.array([[0.7, 0.2, 0.1],\n",
    "#                             [0.3, 0.5, 0.2],\n",
    "#                             [0.3, 0.3, 0.4]])\n",
    "# model.means_ = np.array([[0.0, 0.0], [3.0, -3.0], [5.0, 10.0]])\n",
    "# model.covars_ = np.tile(np.identity(2), (3, 1, 1))\n",
    "# X, Z = model.sample(100)"
   ]
  },
  {
   "cell_type": "code",
   "execution_count": 4,
   "metadata": {},
   "outputs": [],
   "source": [
    "# df = pd.read_csv('../all_data.csv')\n",
    "# df = df[['Client Username', 'Association Time', 'Map Location', 'Session Duration']]\n"
   ]
  },
  {
   "cell_type": "code",
   "execution_count": 5,
   "metadata": {},
   "outputs": [],
   "source": [
    "# re-code userid\n",
    "# df['Client Username'] = pd.Categorical(df['Client Username'])\n",
    "# df['Client Username'] = df['Client Username'].cat.codes\n"
   ]
  },
  {
   "cell_type": "code",
   "execution_count": 6,
   "metadata": {},
   "outputs": [],
   "source": [
    "df = pd.read_csv('../all_data.csv')\n",
    "df = df[['Client Username', 'Association Time', 'Map Location', 'Session Duration', 'Client MAC Address']]\n",
    "df = df.assign(id=(df['Client Username'] + '_' + df['Client MAC Address']).astype('category').cat.codes)\n"
   ]
  },
  {
   "cell_type": "code",
   "execution_count": null,
   "metadata": {},
   "outputs": [],
   "source": []
  },
  {
   "cell_type": "code",
   "execution_count": 7,
   "metadata": {},
   "outputs": [],
   "source": [
    "df = df.drop(['Client Username', 'Client MAC Address'], axis=1)\n",
    "df.rename(columns={'id':'Client Username'}, inplace=True)\n",
    "df = df[['Client Username', 'Association Time', 'Map Location', 'Session Duration']]\n"
   ]
  },
  {
   "cell_type": "code",
   "execution_count": 8,
   "metadata": {
    "scrolled": true
   },
   "outputs": [],
   "source": [
    "# recode map location\n",
    "map_dict = {}\n",
    "count = 0\n",
    "for i in df['Map Location'].unique():\n",
    "    map_dict[i] = count\n",
    "    count += 1\n",
    "df['Map Location'] = df['Map Location'].map(map_dict)"
   ]
  },
  {
   "cell_type": "code",
   "execution_count": 9,
   "metadata": {
    "scrolled": true
   },
   "outputs": [],
   "source": [
    "# df[df['Map Location']==64]"
   ]
  },
  {
   "cell_type": "code",
   "execution_count": null,
   "metadata": {},
   "outputs": [],
   "source": []
  },
  {
   "cell_type": "code",
   "execution_count": 10,
   "metadata": {},
   "outputs": [],
   "source": [
    "def timer(func):\n",
    "    # this part is for timer ignore\n",
    "    def wrapper(*arg):\n",
    "        before = time()\n",
    "        rv = func(*arg)\n",
    "        after = time()\n",
    "        print('Elapsed: ', after-before)\n",
    "        return rv\n",
    "    return wrapper\n",
    "\n",
    "def convertMonth(month):\n",
    "    if month == 'Jan': return 1\n",
    "    elif month == 'Feb': return 2\n",
    "    elif month == 'Mar': return 3\n",
    "    elif month == 'Apr': return 4\n",
    "    elif month == 'May': return 5\n",
    "    elif month == 'Jun': return 6\n",
    "    elif month == 'Jul': return 7\n",
    "    elif month == 'Aug': return 8\n",
    "    elif month == 'Sep': return 9\n",
    "    elif month == 'Oct': return 10\n",
    "    elif month == 'Nov': return 11\n",
    "    elif month == 'Dec': return 12\n",
    "    else: print('error input is not correct')\n",
    "        \n",
    "def convert_to_timeslot(duration):\n",
    "    temp = duration.split()\n",
    "    if len(temp) == 2: sess_duration = int(temp[0])\n",
    "    elif len(temp) == 4: sess_duration = int(temp[0]) * 60 + int(temp[2])\n",
    "    elif len(temp) == 6: sess_duration = (int(temp[0]) * 60 + int(temp[2])) * 60 + int(temp[4])\n",
    "    else: print('error')\n",
    "    return datetime.timedelta(seconds=sess_duration)\n",
    "\n",
    "def convert_to_datetime(time):\n",
    "    temp = time.split()\n",
    "    d_time = datetime.datetime(year=int(temp[5]), month=convertMonth(temp[1]), day=int(temp[2]), hour=int(temp[3].split(':')[0]), minute=int(temp[3].split(':')[1]), second=int(temp[3].split(':')[2]))\n",
    "    return d_time\n",
    "\n",
    "# data_list has same number of row as df.\n",
    "# Each row [userid, map_loc, associate_time, associate_time+sess_dur, sess_dur].\n",
    "def create_data_list(df):\n",
    "    data_list = []\n",
    "    c=0\n",
    "    for i in range(df.shape[0]):\n",
    "        if c%500000 == 0:\n",
    "            print(c)\n",
    "        sess = convert_to_timeslot(df.iloc[i,3])\n",
    "        s_time = convert_to_datetime(df.iloc[i,1])\n",
    "        e_time = s_time + sess\n",
    "        data_list.append([df.iloc[i,0], df.iloc[i,2], s_time, e_time, sess])\n",
    "        c+=1\n",
    "        \n",
    "    data_list = sorted(data_list, key=lambda element: (element[0], element[2]))\n",
    "    data_list1 = sorted(data_list, key=lambda element: (element[2]))\n",
    "    first = data_list1[0][2]\n",
    "    last = data_list1[-1][2]\n",
    "    return data_list, first, last\n",
    "\n",
    "# add up the session duration when the previous row has the same userid and location. \n",
    "# (this happen when you disconnect from the ap and reconnect again or your wifi session expire, etc.)\n",
    "def preprocess_data_list(df, data_list):\n",
    "    for i in reversed(range(1, df.shape[0])):\n",
    "        if data_list[i][0] == data_list[i-1][0] and data_list[i][1] == data_list[i-1][1]:\n",
    "#             if data_list[i][2] - data_list[i-1][3] <= datetime.timedelta(hours=2):\n",
    "            data_list[i-1][4] += data_list[i][4]\n",
    "#             else: print(i)\n",
    "    # loop each row, remove the next concecutive rows has the same userid and map_loc with the current row.\n",
    "    # Because they are useless now\n",
    "    final_data_list = []\n",
    "    i = 0\n",
    "    while i < df.shape[0]-1:\n",
    "        if data_list[i][0] == data_list[i+1][0] and data_list[i][1] == data_list[i+1][1]:\n",
    "            final_data_list.append(data_list[i])\n",
    "            c = 2\n",
    "            while i+c <= df.shape[0]-1 and data_list[i][0] == data_list[i+c][0] and data_list[i][1] == data_list[i+c][1]:\n",
    "                c += 1\n",
    "            i += c\n",
    "\n",
    "        else:\n",
    "            final_data_list.append(data_list[i])\n",
    "            i += 1\n",
    "\n",
    "    if not (final_data_list[-1][0] == data_list[-1][0] and final_data_list[-1][1] == data_list[-1][1]):\n",
    "        final_data_list.append(data_list[-1])\n",
    "\n",
    "    return final_data_list\n",
    "\n",
    "\n",
    "# user_dict's key are each userid and value is a list of all rows of each user in final_data_list\n",
    "def create_user_dict(final_data_list):\n",
    "    user_dict = defaultdict(list)\n",
    "    for row in final_data_list:\n",
    "        user_dict[row[0]].append([row[2], row[1], row[4]])\n",
    "        \n",
    "#     for usr in user_dict:\n",
    "#         user_dict[usr].sort()\n",
    "\n",
    "    return user_dict\n",
    "\n",
    "# \n",
    "def remove_jitter(final_data_list):\n",
    "    res = [final_data_list[0]]\n",
    "    i = 1\n",
    "    mem = 0\n",
    "    while i < len(final_data_list):\n",
    "        cur_usrid = final_data_list[i][0]\n",
    "        cur_loc = final_data_list[i][1]\n",
    "        cur_sess = final_data_list[i][4]\n",
    "        cur_end_time = final_data_list[i][2] + final_data_list[i][4]\n",
    "        cont_time = final_data_list[i][2] - (res[-1][2] + res[-1][4]) <= datetime.timedelta(minutes=1)\n",
    "        if cur_usrid == res[-1][0] and cur_sess <= datetime.timedelta(minutes=1) and cont_time:\n",
    "\n",
    "\n",
    "            if cur_loc != res[-1][1] and mem == 0:\n",
    "                mem = i\n",
    "\n",
    "            elif cur_loc == res[-1][1]:\n",
    "                \n",
    "#                 print(i, cur_loc, cur_end_time, res[-1][1], res[-1][2])\n",
    "\n",
    "#                 print(cur_end_time - res[-1][2])\n",
    "                res[-1][4] = cur_end_time - res[-1][2]\n",
    "#                 print(res[-1][4])\n",
    "                mem=0\n",
    "                \n",
    "            else: pass\n",
    "        elif cur_usrid == res[-1][0] and cur_sess <= datetime.timedelta(minutes=1) and not cont_time:\n",
    "            if cur_loc != res[-1][1] and mem == 0:\n",
    "                res.append(final_data_list[i])\n",
    "\n",
    "            elif cur_loc == res[-1][1]:\n",
    "                res[-1][4] = cur_end_time - res[-1][2]\n",
    "                mem=0\n",
    "                \n",
    "            else:                 \n",
    "                for j in range(mem, i):\n",
    "                    res.append(final_data_list[j])\n",
    "                res.append(final_data_list[i])\n",
    "                mem=0\n",
    "        else:\n",
    "            if mem != 0:\n",
    "                for j in range(mem, i):\n",
    "                    res.append(final_data_list[j])\n",
    "                res.append(final_data_list[i])\n",
    "                mem=0\n",
    "            else: res.append(final_data_list[i])\n",
    "        \n",
    "        i+=1\n",
    "\n",
    "    return res\n",
    "\n",
    "@timer\n",
    "def preprocess_and_create_user_dict(df):\n",
    "    data_list, start_ts, end_ts= create_data_list(df)\n",
    "    final_data_list = preprocess_data_list(df, data_list)\n",
    "    print(len(final_data_list), len(data_list))\n",
    "    final_data_list = remove_jitter(final_data_list)\n",
    "    print(len(final_data_list), len(data_list))\n",
    "    user_dict = create_user_dict(final_data_list)\n",
    "    return user_dict, start_ts, end_ts\n"
   ]
  },
  {
   "cell_type": "code",
   "execution_count": 11,
   "metadata": {},
   "outputs": [
    {
     "name": "stdout",
     "output_type": "stream",
     "text": [
      "0\n",
      "500000\n",
      "1000000\n",
      "1500000\n",
      "2000000\n",
      "2500000\n",
      "3000000\n",
      "3500000\n",
      "4000000\n",
      "4500000\n",
      "5000000\n",
      "5500000\n",
      "6000000\n",
      "2350637 6114987\n",
      "2350635 6114987\n",
      "Elapsed:  356.18208384513855\n"
     ]
    }
   ],
   "source": [
    "user_dict, start_ts, end_ts = preprocess_and_create_user_dict(df)"
   ]
  },
  {
   "cell_type": "code",
   "execution_count": 12,
   "metadata": {},
   "outputs": [
    {
     "data": {
      "image/png": "[encoded data removed]",
      "text/plain": [
       "<Figure size 432x288 with 1 Axes>"
      ]
     },
     "metadata": {
      "needs_background": "light"
     },
     "output_type": "display_data"
    }
   ],
   "source": [
    "# make an 198x198 graph (198 is the number of aps) this is the graph of the school, \n",
    "# the edges are how many connections in total that all students have traveled.\n",
    "def create_198_198_map(df, user_dict, draw=True):\n",
    "    num_aps = len(df[\"Map Location\"].unique())\n",
    "    undir_map = np.zeros(39204, dtype=np.int32).reshape(198, 198)\n",
    "    for usr in user_dict:\n",
    "        for i in range(len(user_dict[usr])-1):\n",
    "            if user_dict[usr][i][1] != user_dict[usr][i+1][1]:\n",
    "                undir_map[user_dict[usr][i][1]][user_dict[usr][i+1][1]] += 1\n",
    "                undir_map[user_dict[usr][i+1][1]][user_dict[usr][i][1]] += 1\n",
    "\n",
    "    \n",
    "    # draw the number of connections each edge is used. Change ax.set_ylim([0, 75]) to scale the graph\n",
    "    # try to find the edges that are bad (low connections, too high connections) and prune them\n",
    "    if draw:\n",
    "        draw_list = []\n",
    "        c = 0\n",
    "        for i in range(len(undir_map)):\n",
    "            c+=1\n",
    "            for j in range(len(undir_map[i])-c):\n",
    "                draw_list.append(undir_map[i][j+c])\n",
    "        draw_list.sort()\n",
    "        # Data for plotting\n",
    "        x = np.arange(0,len(draw_list))\n",
    "\n",
    "        _, ax = plt.subplots()\n",
    "        ax.set_xlim([18500, len(draw_list)])\n",
    "        ax.set_ylim([0, 9999])\n",
    "        ax.plot(x, draw_list)\n",
    "        ax.set(xlabel='number of edges', ylabel='number of connections',\n",
    "               title='ap graph edge distribution')\n",
    "        ax.grid()\n",
    "        # fig.savefig(\"test.png\")\n",
    "        plt.show()\n",
    "    \n",
    "    return undir_map\n",
    "\n",
    "undir_map = create_198_198_map(df, user_dict)"
   ]
  },
  {
   "cell_type": "code",
   "execution_count": 42,
   "metadata": {},
   "outputs": [],
   "source": [
    "def map_pruning(undir_map, low=50, high=5000):\n",
    "    size = len(undir_map)\n",
    "    undir_map1 = np.zeros(size**2, dtype=np.int32).reshape(size, size)\n",
    "\n",
    "    for i in range(size):\n",
    "        for j in range(size):\n",
    "            if undir_map[i][j] >=low and undir_map[i][j] <=high:\n",
    "                undir_map1[i][j] = 1\n",
    "            else: undir_map1[i][j] = 0\n",
    "\n",
    "    return undir_map1\n",
    "\n",
    "undir_map_prune = map_pruning(undir_map, low=50, high=5000)\n"
   ]
  },
  {
   "cell_type": "code",
   "execution_count": 43,
   "metadata": {},
   "outputs": [
    {
     "data": {
      "image/png": "[encoded data removed]",
      "text/plain": [
       "<Figure size 432x288 with 1 Axes>"
      ]
     },
     "metadata": {
      "needs_background": "light"
     },
     "output_type": "display_data"
    }
   ],
   "source": [
    "def create_nx_graph(undir_map_prune):\n",
    "    nx_graph = nx.to_networkx_graph(undir_map_prune)\n",
    "    res = np.arange(100, 110)\n",
    "    # nx.draw_networkx(nx_graph, nodelist=res, node_size=[6])\n",
    "    # pos = nx.spring_layout(nx_graph)  #setting the positions with respect to G, not k.\n",
    "    k = nx_graph.subgraph(res)\n",
    "\n",
    "    nx.draw_networkx(k)\n",
    "    return nx_graph\n",
    "\n",
    "nx_graph = create_nx_graph(undir_map_prune)\n",
    "\n",
    "# find all the paths from 2 nodes with length of 3 or less\n",
    "def find_all_paths(graph, src, dest, cutoff=3):\n",
    "    paths = nx.algorithms.simple_paths.all_simple_paths(graph, src, dest, cutoff= cutoff)\n",
    "    return paths"
   ]
  },
  {
   "cell_type": "code",
   "execution_count": 44,
   "metadata": {},
   "outputs": [
    {
     "name": "stdout",
     "output_type": "stream",
     "text": [
      "3071\n"
     ]
    }
   ],
   "source": [
    "paths = find_all_paths(nx_graph, 3,5)\n",
    "t = 0\n",
    "for path in paths:\n",
    "    t+=1\n",
    "print(t)"
   ]
  },
  {
   "cell_type": "code",
   "execution_count": 45,
   "metadata": {},
   "outputs": [],
   "source": [
    "def create_freq_dict(user_dict):\n",
    "    # time spend on each ap during the entire dataset for each user\n",
    "    ap_freq_dict = defaultdict(dict)\n",
    "    total_time_each_usr = {}\n",
    "    for usr in user_dict:\n",
    "        for i in range(len(user_dict[usr])): \n",
    "            ap_freq_dict[usr][user_dict[usr][i][1]] = datetime.timedelta(0)\n",
    "            total_time_each_usr[usr] = datetime.timedelta(0)\n",
    "\n",
    "    for usr in user_dict:\n",
    "        for i in range(len(user_dict[usr])):\n",
    "            ap_freq_dict[usr][user_dict[usr][i][1]] += user_dict[usr][i][2]\n",
    "            total_time_each_usr[usr] += user_dict[usr][i][2]\n",
    "    \n",
    "    return ap_freq_dict, total_time_each_usr\n",
    "\n",
    "ap_freq_dict, _ = create_freq_dict(user_dict)"
   ]
  },
  {
   "cell_type": "code",
   "execution_count": 46,
   "metadata": {},
   "outputs": [
    {
     "data": {
      "text/plain": [
       "{4: datetime.timedelta(seconds=2163),\n",
       " 19: datetime.timedelta(seconds=13187),\n",
       " 3: datetime.timedelta(days=1, seconds=27439),\n",
       " 79: datetime.timedelta(seconds=617),\n",
       " 11: datetime.timedelta(seconds=1564),\n",
       " 34: datetime.timedelta(seconds=29582),\n",
       " 20: datetime.timedelta(seconds=7138),\n",
       " 44: datetime.timedelta(seconds=305),\n",
       " 5: datetime.timedelta(seconds=2491),\n",
       " 35: datetime.timedelta(seconds=9203),\n",
       " 25: datetime.timedelta(seconds=311),\n",
       " 9: datetime.timedelta(seconds=1224),\n",
       " 110: datetime.timedelta(seconds=305)}"
      ]
     },
     "execution_count": 46,
     "metadata": {},
     "output_type": "execute_result"
    }
   ],
   "source": [
    "ap_freq_dict[4900]"
   ]
  },
  {
   "cell_type": "code",
   "execution_count": 47,
   "metadata": {},
   "outputs": [],
   "source": [
    "# c=0\n",
    "# for usr in user_dict:\n",
    "#     for it in user_dict[usr]:\n",
    "#         if it[2] <= datetime.timedelta(minutes=1):\n",
    "#             c+=1\n",
    "#             print(it)\n",
    "            \n",
    "# print(c)"
   ]
  },
  {
   "cell_type": "code",
   "execution_count": 48,
   "metadata": {},
   "outputs": [],
   "source": [
    "# ss = 1114922\n",
    "# final_data_list[ss-10:ss+10]"
   ]
  },
  {
   "cell_type": "code",
   "execution_count": 49,
   "metadata": {},
   "outputs": [],
   "source": [
    "# small = datetime.timedelta(seconds = 50)\n",
    "# test = final_data_list[ss-10:ss+10]\n",
    "# test1 = []\n",
    "# for i in range(len(final_data_list[ss-10:ss+10])):\n",
    "#     if i % 2 == 0:\n",
    "#         test1.append([test[i][0], test[i][1],test[i][2],test[i][3],test[i][4]])\n",
    "#     else:\n",
    "#         test1.append([test1[-1][0], 7,test1[-1][2] + test1[-1][4],test1[-1][3],small])\n",
    "\n",
    "# for i in range(len(test1)):\n",
    "#     if i % 2 == 0 and i !=0:\n",
    "#         test1[i][1] = test1[0][1]"
   ]
  },
  {
   "cell_type": "code",
   "execution_count": 51,
   "metadata": {},
   "outputs": [
    {
     "name": "stdout",
     "output_type": "stream",
     "text": [
      "2018-02-23 16:22:44 2018-07-16 16:14:56\n",
      "2018-02-23 00:00:00 2018-07-16 23:59:59\n",
      "1519372800 1531810799\n"
     ]
    }
   ],
   "source": [
    "dt = datetime.datetime(year=2018,month=2,day=23,hour=16,minute=22,second=44)\n",
    "seconds = dt.timestamp()\n",
    "print(start_ts,end_ts)\n",
    "\n",
    "\n",
    "start_ts1 = datetime.datetime(year=2018, month=2, day=23)\n",
    "end_ts1 = datetime.datetime(year=2018, month=7, day=16, hour=23, minute=59, second=59)\n",
    "print(start_ts1,end_ts1)\n",
    "start_ts1 = int(start_ts1.timestamp())\n",
    "end_ts1 = int(end_ts1.timestamp())\n",
    "print(start_ts1,end_ts1)"
   ]
  },
  {
   "cell_type": "code",
   "execution_count": 52,
   "metadata": {},
   "outputs": [],
   "source": [
    "def convert_datetime_to_timestamp(input_time):\n",
    "    return int(input_time.timestamp())\n",
    "def convert_timedelta_to_seconds(input_time):\n",
    "    return int(input_time.total_seconds())\n",
    "def convert_timestamp_to_index(input_ts, start_ts, window_in_minutes):\n",
    "    index = math.floor((input_ts - start_ts) / (window_in_minutes * 60))\n",
    "    return index\n",
    "# create a time slot 2d array each row is a user and each cols is a timeslot.\n",
    "# for a particular user if there is no information on a particular time slot append(-1)\n",
    "# this function is not finished\n",
    "# Input:\n",
    "# - df: dataframe\n",
    "# - userdict: list of user id\n",
    "# - start_timestamp: start time timestamp\n",
    "# - end_timestamp: end time timestamp\n",
    "# - window_in_minute: time window, use 60 (1 hour) first for simplicity\n",
    "# \n",
    "# Output:\n",
    "# - result: a hashmap (dictionary) where each map item is a 1D array where array \n",
    "#           indexes are indexed timeslot and values are \"Map Location\" (integer value)\n",
    "#           -1 if there's no information for that timeslot\n",
    "def create_time_slot_data(df, user_dict, start_timestamp, end_timestamp, window_in_minutes,usr):\n",
    "    # calculate number of index in each array\n",
    "    # Formula:\n",
    "    # number_of_time_entry = (diff of timestamp in second) / (number of seconds in that time window)\n",
    "    number_of_time_entry = int((end_timestamp - start_timestamp) / (window_in_minutes * 60))\n",
    "    \n",
    "    # Addumption: start date at 0:0:0, end date at 23:59:59\n",
    "    # 86400 = seconds in a day\n",
    "    number_of_days = int((end_timestamp - start_timestamp) / 86400)\n",
    "    \n",
    "    number_of_time_entry_per_day = int(86400 / (window_in_minutes * 60))\n",
    "    #print(number_of_time_entry_per_day)\n",
    "    result = {}\n",
    "    #for i in range(df.shape[0]):\n",
    "#     for usr in user_dict:\n",
    "    if usr % 10000 == 0: print(usr)\n",
    "    client_username = usr\n",
    "    for i in range(0, len(user_dict[usr])):\n",
    "    #print(user_dict[usr][i][0])\n",
    "    #print(convert_datetime_to_timestamp(user_dict[usr][i][0]))\n",
    "    #print(user_dict[usr][i][1])\n",
    "    #print(convert_timedelta_to_seconds(user_dict[usr][i][2]))\n",
    "    #client_username = df.iloc[i,0]\n",
    "        association_time = convert_datetime_to_timestamp(user_dict[usr][i][0])\n",
    "        map_location = user_dict[usr][i][1]\n",
    "        session_duration = convert_timedelta_to_seconds(user_dict[usr][i][2])\n",
    "\n",
    "        # 1/ If there's no entry for this user in result dict\n",
    "        #    create a new 1d array with all -1 \n",
    "        #    then change values base on association time and session duration\n",
    "        # 2/ If user already in the result dict\n",
    "        #    then change values base on association time and session duration\n",
    "        # Caveats: there's maybe duplication, ignore it for now\n",
    "        if client_username not in result:\n",
    "            #time_entry_ts = start_timestamp\n",
    "            #while time_entry_ts < end_timestamp:\n",
    "            result[client_username] = [-1] * number_of_time_entry\n",
    "                #time_entry_ts += 86400\n",
    "        # convert association time to timestamp\n",
    "        # and calculate the total sesstion in timestamp\n",
    "        association_time_ts = association_time\n",
    "        end_association_time_ts = association_time_ts + session_duration\n",
    "        if (association_time_ts > end_timestamp): \n",
    "            continue\n",
    "        # TODO:\n",
    "        # Need to handle the case where association timestamp < start_timestamp\n",
    "        # in that case, some array entry might change\n",
    "        start_index = convert_timestamp_to_index(association_time_ts, start_timestamp, window_in_minutes)\n",
    "        end_index = convert_timestamp_to_index(end_association_time_ts, start_timestamp, window_in_minutes)\n",
    "        # mark all the index from start index to end index to map location\n",
    "        for i in range(start_index, end_index):\n",
    "            result[client_username][i] = map_location\n",
    "       \n",
    "    #print(result)\n",
    "    # Now we have a result dictionary without date\n",
    "    # Do some more calculation to convert this to a dict with\n",
    "    # {userid, date, list of timeslot}\n",
    "    output = {}\n",
    "#     day_track=[1]\n",
    "    for user in result:\n",
    "        output[user] = {}\n",
    "        date_ts = start_timestamp\n",
    "        output[user][date_ts] = [-1] * number_of_time_entry_per_day\n",
    "#         summ=0\n",
    "        \n",
    "        for i in range(0, number_of_time_entry):\n",
    "            if (i != 0) and (i % number_of_time_entry_per_day == 0):\n",
    "                date_ts += 86400\n",
    "                output[user][date_ts] = [-1] * number_of_time_entry_per_day\n",
    "                \n",
    "#                 if summ <= -288:\n",
    "#                     day_track.append(0)\n",
    "#                 else: day_track.append(1)\n",
    "#                 summ=0\n",
    "\n",
    "\n",
    "            output[user][date_ts][i % number_of_time_entry_per_day] = result[user][i]\n",
    "#             if result[user][i]==-1: summ-=1\n",
    "        \n",
    "\n",
    "    return output\n",
    "\n",
    "output = create_time_slot_data(df, user_dict, start_ts1, end_ts1, 5,4900)\n"
   ]
  },
  {
   "cell_type": "code",
   "execution_count": null,
   "metadata": {},
   "outputs": [],
   "source": []
  },
  {
   "cell_type": "code",
   "execution_count": 56,
   "metadata": {},
   "outputs": [],
   "source": [
    "track = []\n",
    "c = 1519372800\n",
    "for i in range(len(output[4900])):\n",
    "    cc = 0\n",
    "    for j in output[4900][c]:\n",
    "        cc += j\n",
    "    if cc <= -288: track.append(0)\n",
    "    else: track.append(1)\n",
    "    c+=86400\n",
    "\n",
    "# c = 1519372800\n",
    "# for i in range(len(output[4900])):\n",
    "#     if track[i] != 0:\n",
    "#         print(output[9][c])\n",
    "#     c+=86400\n"
   ]
  },
  {
   "cell_type": "code",
   "execution_count": null,
   "metadata": {},
   "outputs": [],
   "source": []
  },
  {
   "cell_type": "code",
   "execution_count": 63,
   "metadata": {},
   "outputs": [
    {
     "name": "stdout",
     "output_type": "stream",
     "text": [
      "100000\n"
     ]
    }
   ],
   "source": [
    "# datetime.datetime.fromtimestamp(1519376400).strftime(\"%A, %B %d, %Y %I:%M:%S\")\n",
    "def segment_count(user_dict):\n",
    "    c=0\n",
    "    usr_segment = defaultdict(lambda: defaultdict(int))\n",
    "    total_segment = defaultdict(int)\n",
    "    for usr in user_dict:\n",
    "        c+=1\n",
    "        if c%100000 == 0: print(c)\n",
    "        for i in range(len(user_dict[usr])-1):\n",
    "            user_loc1 = user_dict[usr][i][1]\n",
    "            user_loc2 = user_dict[usr][i+1][1]\n",
    "            segment = [user_loc1, user_loc2]\n",
    "#             segment.sort()\n",
    "            segment_key = ' > '.join(str(x) for x in segment)\n",
    "            usr_segment[usr][segment_key] += 1\n",
    "            total_segment[segment_key] += 1\n",
    "    return usr_segment, total_segment\n",
    "\n",
    "usr_segment, total_segment = segment_count(user_dict)\n"
   ]
  },
  {
   "cell_type": "code",
   "execution_count": 62,
   "metadata": {},
   "outputs": [],
   "source": [
    "# usr_segment[8989]\n",
    "# user_dict[9899]"
   ]
  },
  {
   "cell_type": "code",
   "execution_count": 68,
   "metadata": {},
   "outputs": [
    {
     "data": {
      "image/png": "[encoded data removed]",
      "text/plain": [
       "<Figure size 432x288 with 1 Axes>"
      ]
     },
     "metadata": {
      "needs_background": "light"
     },
     "output_type": "display_data"
    }
   ],
   "source": [
    "def draw_seg_dist(usr, usr_segment, total_segment, usr_graph=True, total_graph=True):\n",
    "    if usr_graph:\n",
    "        x = list(usr_segment[usr].keys())\n",
    "        y = list(usr_segment[usr].values())\n",
    "        plt.bar(x,y)\n",
    "\n",
    "    if total_graph:\n",
    "        x = list(total_segment.keys())\n",
    "        y = list(total_segment.values())\n",
    "#         print(len(x))\n",
    "#         print(len(y))\n",
    "#         plt.bar(x[0:100],y[0:100])\n",
    "        y.sort()\n",
    "\n",
    "        _, ax = plt.subplots()\n",
    "#         ax.set_xlim([18500, len(draw_list)])\n",
    "        ax.set_ylim([0, 500])\n",
    "        plt.plot(np.arange(1,len(y)+1),y)\n",
    "        \n",
    "draw_seg_dist(9899, usr_segment, total_segment,False,True)"
   ]
  },
  {
   "cell_type": "code",
   "execution_count": 32,
   "metadata": {},
   "outputs": [
    {
     "ename": "NameError",
     "evalue": "name 'output' is not defined",
     "output_type": "error",
     "traceback": [
      "\u001b[0;31m---------------------------------------------------------------------------\u001b[0m",
      "\u001b[0;31mNameError\u001b[0m                                 Traceback (most recent call last)",
      "\u001b[0;32m<ipython-input-32-abf7f6ed8056>\u001b[0m in \u001b[0;36m<module>\u001b[0;34m()\u001b[0m\n\u001b[1;32m      1\u001b[0m \u001b[0mplt\u001b[0m\u001b[0;34m.\u001b[0m\u001b[0mbar\u001b[0m\u001b[0;34m(\u001b[0m\u001b[0;34m[\u001b[0m\u001b[0;34m]\u001b[0m\u001b[0;34m,\u001b[0m\u001b[0;34m[\u001b[0m\u001b[0;34m]\u001b[0m\u001b[0;34m)\u001b[0m\u001b[0;34m\u001b[0m\u001b[0m\n\u001b[0;32m----> 2\u001b[0;31m \u001b[0;32mfor\u001b[0m \u001b[0mi\u001b[0m \u001b[0;32min\u001b[0m \u001b[0mrange\u001b[0m\u001b[0;34m(\u001b[0m\u001b[0mlen\u001b[0m\u001b[0;34m(\u001b[0m\u001b[0moutput\u001b[0m\u001b[0;34m[\u001b[0m\u001b[0;36m9\u001b[0m\u001b[0;34m]\u001b[0m\u001b[0;34m)\u001b[0m\u001b[0;34m)\u001b[0m\u001b[0;34m:\u001b[0m\u001b[0;34m\u001b[0m\u001b[0m\n\u001b[0m\u001b[1;32m      3\u001b[0m     \u001b[0;32mif\u001b[0m \u001b[0mtrack\u001b[0m\u001b[0;34m[\u001b[0m\u001b[0mi\u001b[0m\u001b[0;34m]\u001b[0m \u001b[0;34m!=\u001b[0m \u001b[0;36m0\u001b[0m\u001b[0;34m:\u001b[0m\u001b[0;34m\u001b[0m\u001b[0m\n\u001b[1;32m      4\u001b[0m         \u001b[0mprint\u001b[0m\u001b[0;34m(\u001b[0m\u001b[0moutput\u001b[0m\u001b[0;34m[\u001b[0m\u001b[0;36m9\u001b[0m\u001b[0;34m]\u001b[0m\u001b[0;34m[\u001b[0m\u001b[0mc\u001b[0m\u001b[0;34m]\u001b[0m\u001b[0;34m)\u001b[0m\u001b[0;34m\u001b[0m\u001b[0m\n\u001b[1;32m      5\u001b[0m     \u001b[0mc\u001b[0m\u001b[0;34m+=\u001b[0m\u001b[0;36m86400\u001b[0m\u001b[0;34m\u001b[0m\u001b[0m\n",
      "\u001b[0;31mNameError\u001b[0m: name 'output' is not defined"
     ]
    },
    {
     "data": {
      "image/png": "[encoded data removed]",
      "text/plain": [
       "<Figure size 432x288 with 1 Axes>"
      ]
     },
     "metadata": {
      "needs_background": "light"
     },
     "output_type": "display_data"
    }
   ],
   "source": [
    "for i in range(len(output[9])):\n",
    "    if track[i] != 0:\n",
    "        print(output[9][c])\n",
    "    c+=86400"
   ]
  },
  {
   "cell_type": "code",
   "execution_count": 57,
   "metadata": {},
   "outputs": [],
   "source": []
  },
  {
   "cell_type": "code",
   "execution_count": 58,
   "metadata": {},
   "outputs": [
    {
     "data": {
      "text/plain": [
       "dict_items([('uu', 8)])"
      ]
     },
     "execution_count": 58,
     "metadata": {},
     "output_type": "execute_result"
    }
   ],
   "source": []
  },
  {
   "cell_type": "code",
   "execution_count": 61,
   "metadata": {},
   "outputs": [
    {
     "name": "stdout",
     "output_type": "stream",
     "text": [
      "2\n"
     ]
    }
   ],
   "source": [
    "def count_path_occurrence(raw_string_list, substring_list):\n",
    "    count = 0\n",
    "    for i in range(len(raw_string_list)):\n",
    "        for j in range(len(raw_string_list[i])):\n",
    "            if raw_string_list[i][j:j + len(substring_list)] == substring_list:\n",
    "                count += 1\n",
    "                break\n",
    "    print(count)\n",
    "    \n",
    "a = [['a', '1', 'c'], ['9', 'a', '1', 'a', '1', 'd']]\n",
    "b = ['a', '1']\n",
    "count_path_occurrence(a, b)\n"
   ]
  },
  {
   "cell_type": "code",
   "execution_count": null,
   "metadata": {},
   "outputs": [],
   "source": []
  }
 ],
 "metadata": {
  "kernelspec": {
   "display_name": "Python 3",
   "language": "python",
   "name": "python3"
  },
  "language_info": {
   "codemirror_mode": {
    "name": "ipython",
    "version": 3
   },
   "file_extension": ".py",
   "mimetype": "text/x-python",
   "name": "python",
   "nbconvert_exporter": "python",
   "pygments_lexer": "ipython3",
   "version": "3.6.6"
  }
 },
 "nbformat": 4,
 "nbformat_minor": 2
}
