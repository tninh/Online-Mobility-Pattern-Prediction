{
 "cells": [
  {
   "cell_type": "code",
   "execution_count": null,
   "metadata": {},
   "outputs": [],
   "source": [
    "'''\n",
    "Load data to a database\n",
    "'''\n",
    "\n",
    "# from hmmlearn import hmm\n",
    "import numpy as np\n",
    "import pandas as pd\n",
    "from collections import defaultdict\n",
    "import datetime\n",
    "# import pykovy-master/ \n",
    "from pykovy.src.pykovy import chain\n",
    "import sqlite3\n",
    "from sqlalchemy import create_engine"
   ]
  },
  {
   "cell_type": "code",
   "execution_count": null,
   "metadata": {},
   "outputs": [],
   "source": [
    "df = pd.read_csv('data_sample/ap.csv')\n",
    "df = df[['Client Username', 'Association Time','Map Location', 'Session Duration']]"
   ]
  },
  {
   "cell_type": "code",
   "execution_count": null,
   "metadata": {},
   "outputs": [],
   "source": [
    "df"
   ]
  },
  {
   "cell_type": "code",
   "execution_count": null,
   "metadata": {},
   "outputs": [],
   "source": [
    "# Save data to database\n",
    "#conn = sqlite3.connect('data.sqlite')\n",
    "#engine = create_engine('sqlite://', echo=False)\n",
    "#df.to_sql('users', con=engine)"
   ]
  },
  {
   "cell_type": "code",
   "execution_count": null,
   "metadata": {},
   "outputs": [],
   "source": [
    "#engine.execute(\"SELECT * FROM users\").fetchall()"
   ]
  },
  {
   "cell_type": "code",
   "execution_count": null,
   "metadata": {},
   "outputs": [],
   "source": [
    "def convertMonth(month):\n",
    "    if month == 'Jan': return 1\n",
    "    elif month == 'Feb': return 2\n",
    "    elif month == 'Mar': return 3\n",
    "    elif month == 'Apr': return 4\n",
    "    elif month == 'May': return 5\n",
    "    elif month == 'Jun': return 6\n",
    "    elif month == 'Jul': return 7\n",
    "    elif month == 'Aug': return 8\n",
    "    elif month == 'Sep': return 9\n",
    "    elif month == 'Oct': return 10\n",
    "    elif month == 'Nov': return 11\n",
    "    elif month == 'Dec': return 12\n",
    "    else: print('error input is not correct')\n",
    "        \n",
    "def convert_time_slot(time):\n",
    "    temp = (time.hour * 60 + time.minute) * 60 + time.second\n",
    "    return int(temp/(5*60) + 1)\n",
    "\n",
    "def convert_time(time):\n",
    "    return time.split(':')\n",
    "\n",
    "print(convert_time('13:42:56')[0])                              "
   ]
  },
  {
   "cell_type": "code",
   "execution_count": null,
   "metadata": {},
   "outputs": [],
   "source": [
    "# Get number of users using an AP by date\n",
    "# need modification for more fine grain time\n",
    "# input is a panda dataframe\n",
    "def get_number_of_users_by_date(df):\n",
    "    df.shape[0]\n",
    "    temp = df.iloc[0,3].split()\n",
    "    #temp2 = df.iloc[0,2]\n",
    "    #temp2\n",
    "    result = {}\n",
    "    client_list = {}\n",
    "    for i in range(df.shape[0]):\n",
    "        association_time = df.iloc[i,1].split()\n",
    "        temp1 = df.iloc[i,3].split()\n",
    "        AP_name = df.iloc[i,2]\n",
    "        client_username = df.iloc[i,0]\n",
    "    \n",
    "        if len(temp1) == 2: sess_duration = int(temp1[0])\n",
    "        elif len(temp1) == 4: sess_duration = int(temp1[0]) * 60 + int(temp1[2])\n",
    "        elif len(temp1) == 6: sess_duration = (int(temp1[0]) * 60 + int(temp1[2])) * 60 + int(temp1[4])\n",
    "        else: print('error')\n",
    "\n",
    "        d_time = datetime.datetime(year=int(association_time[5]), \n",
    "                                   month=convertMonth(association_time[1]), \n",
    "                                   day=int(association_time[2]))\n",
    "        \n",
    "        if AP_name not in result:\n",
    "            # new AP, just add it to the list\n",
    "            day_dict = {}\n",
    "            day_dict[str(d_time)] = 1\n",
    "            result[AP_name] = day_dict\n",
    "            client_list[client_username] = []\n",
    "            client_list[client_username].append(str(d_time))\n",
    "        else:\n",
    "            if result[AP_name].get(str(d_time)):\n",
    "                # time entry already in the list\n",
    "                # need to check if the user is already counted\n",
    "                # for that time slot\n",
    "                # if not, then add this in the list\n",
    "                if client_username not in client_list:\n",
    "                    result[AP_name][str(d_time)] += 1\n",
    "                    client_list[client_username] = []\n",
    "                    client_list[client_username].append(str(d_time))\n",
    "                    #client_list[client_username] = 1\n",
    "                else:\n",
    "                    if str(d_time) not in client_list[client_username]:\n",
    "                        result[AP_name][str(d_time)] += 1\n",
    "                        client_list[client_username].append(str(d_time))\n",
    "            else:\n",
    "                # new time entry, just add it to the list\n",
    "                result[AP_name][str(d_time)] = 1\n",
    "                client_list[client_username] = []\n",
    "                client_list[client_username].append(str(d_time))\n",
    "                #client_list[client_username] = 1\n",
    "    \n",
    "    #print(client_list)\n",
    "    return result   \n",
    "    #data_dict2[df.iloc[i,0]].append([d_time, df.iloc[i,2], sess_duration])\n",
    "\n",
    "output = get_number_of_users_by_date(df)\n",
    "output['SJSUWIFI > ENG > Floor 2']\n",
    "#pd.DataFrame(list(output.items()))\n",
    "pd.DataFrame(output)"
   ]
  },
  {
   "cell_type": "code",
   "execution_count": null,
   "metadata": {},
   "outputs": [],
   "source": [
    "# Get number of users using an AP by hour\n",
    "# need modification for more fine grain time\n",
    "# input is a panda dataframe\n",
    "# TODO: need to check for user_name\n",
    "def get_number_of_users_by_hour(df):\n",
    "    df.shape[0]\n",
    "    temp = df.iloc[0,3].split()\n",
    "    #temp2 = df.iloc[0,2]\n",
    "    #temp2\n",
    "    result = {}\n",
    "    client_list = {}\n",
    "    for i in range(df.shape[0]):\n",
    "        association_time = df.iloc[i,1].split()\n",
    "        temp1 = df.iloc[i,3].split()\n",
    "        AP_name = df.iloc[i,2]\n",
    "        client_username = df.iloc[i,1]\n",
    "    \n",
    "        if len(temp1) == 2: sess_duration = int(temp1[0])\n",
    "        elif len(temp1) == 4: sess_duration = int(temp1[0]) * 60 + int(temp1[2])\n",
    "        elif len(temp1) == 6: sess_duration = (int(temp1[0]) * 60 + int(temp1[2])) * 60 + int(temp1[4])\n",
    "        else: print('error')\n",
    "\n",
    "        d_time = datetime.datetime(year=int(association_time[5]), \n",
    "                                   month=convertMonth(association_time[1]), \n",
    "                                   day=int(association_time[2]),\n",
    "                                   hour=int(convert_time(association_time[3])[0]))\n",
    "        \n",
    "        if AP_name not in result:\n",
    "            # new AP, just add it to the list\n",
    "            day_dict = {}\n",
    "            day_dict[str(d_time)] = 1\n",
    "            result[AP_name] = day_dict\n",
    "            client_list[client_username] = 1\n",
    "        else:  \n",
    "            if result[AP_name].get(str(d_time)):\n",
    "                # time entry already in the list\n",
    "                # need to check if the user is already counted\n",
    "                # if not, then add this in the list\n",
    "                if client_username not in client_list:\n",
    "                    result[AP_name][str(d_time)] += 1\n",
    "                    client_list[client_username] = 1\n",
    "            else:\n",
    "                # new time entry, just add it to the list\n",
    "                result[AP_name][str(d_time)] = 1\n",
    "                client_list[client_username] = 1\n",
    "            \n",
    "    return result   \n",
    "    #data_dict2[df.iloc[i,0]].append([d_time, df.iloc[i,2], sess_duration])\n",
    "\n",
    "output = get_number_of_users_by_hour(df)\n",
    "output['Campus Housing > CV2 > 4th floor']\n",
    "pd.DataFrame(output)"
   ]
  },
  {
   "cell_type": "code",
   "execution_count": null,
   "metadata": {},
   "outputs": [],
   "source": [
    "# Combines all the csv files in \"filenames\"\n",
    "# to a single \"combined_csv.csv\"\n",
    "def combine_csv(filenames):\n",
    "    combined_csv = pd.concat( [ pd.read_csv(f) for f in filenames ] )\n",
    "    combined_csv.to_csv( \"combined_csv.csv\", index=False )"
   ]
  },
  {
   "cell_type": "code",
   "execution_count": null,
   "metadata": {},
   "outputs": [],
   "source": [
    "# Get number of users using an AP by hour\n",
    "# need modification for more fine grain time\n",
    "# input is a panda dataframe\n",
    "# TODO: need to check for user_name\n",
    "def get_number_of_users_by_hour_2(df):\n",
    "    df.shape[0]\n",
    "    temp = df.iloc[0,3].split()\n",
    "    #temp2 = df.iloc[0,2]\n",
    "    #temp2\n",
    "    result = {}\n",
    "    client_list = {}\n",
    "    for i in range(df.shape[0]):\n",
    "        association_time = df.iloc[i,1].split()\n",
    "        temp1 = df.iloc[i,3].split()\n",
    "        AP_name = df.iloc[i,2]\n",
    "        client_username = df.iloc[i,1]\n",
    "    \n",
    "        if len(temp1) == 2: sess_duration = int(temp1[0])\n",
    "        elif len(temp1) == 4: sess_duration = int(temp1[0]) * 60 + int(temp1[2])\n",
    "        elif len(temp1) == 6: sess_duration = (int(temp1[0]) * 60 + int(temp1[2])) * 60 + int(temp1[4])\n",
    "        else: print('error')\n",
    "\n",
    "        \n",
    "        d_time = datetime.datetime(year=int(association_time[5]), \n",
    "                                   month=convertMonth(association_time[1]), \n",
    "                                   day=int(association_time[2]),\n",
    "                                   hour=int(convert_time(association_time[3])[0]))\n",
    "        '''\n",
    "        d_time = datetime.datetime(year=int(association_time[5]), \n",
    "                                   month=convertMonth(association_time[1]), \n",
    "                                   day=int(association_time[2]))\n",
    "        '''\n",
    "        if d_time not in result:\n",
    "            AP_dict = {}\n",
    "            AP_dict[str(AP_name)] = 1\n",
    "            result[d_time] = AP_dict\n",
    "            client_list[client_username] = 1\n",
    "        else:  \n",
    "            if result[d_time].get(str(d_time)):\n",
    "                # time entry already in the list\n",
    "                # need to check if the user is already counted\n",
    "                # if not, then add this in the list\n",
    "                if client_username not in client_list:\n",
    "                    result[d_time][str(AP_name)] += 1\n",
    "                    client_list[client_username] = 1\n",
    "            else:\n",
    "                # new time entry, just add it to the list\n",
    "                result[d_time][str(AP_name)] = 1\n",
    "                client_list[client_username] = 1\n",
    "            \n",
    "    return result   \n",
    "    #data_dict2[df.iloc[i,0]].append([d_time, df.iloc[i,2], sess_duration])\n",
    "\n",
    "output = get_number_of_users_by_hour_2(df)\n",
    "output\n",
    "#output[datetime.datetime(2018, 2, 24, 10, 0)]\n",
    "pd.DataFrame(output)"
   ]
  },
  {
   "cell_type": "code",
   "execution_count": null,
   "metadata": {
    "scrolled": true
   },
   "outputs": [],
   "source": [
    "output = get_number_of_users_by_hour_2(df)\n",
    "#output['Campus Housing > CV2 > 4th floor']\n",
    "ap_df = pd.DataFrame(output)\n",
    "ap_df = ap_df.fillna(0)\n",
    "ap_df"
   ]
  },
  {
   "cell_type": "code",
   "execution_count": null,
   "metadata": {
    "scrolled": true
   },
   "outputs": [],
   "source": [
    "ap_df.dtypes"
   ]
  },
  {
   "cell_type": "code",
   "execution_count": null,
   "metadata": {},
   "outputs": [],
   "source": [
    "#fit the model\n",
    "from statsmodels.tsa.vector_ar.var_model import VAR"
   ]
  },
  {
   "cell_type": "code",
   "execution_count": null,
   "metadata": {},
   "outputs": [],
   "source": [
    "list(ap_df)"
   ]
  },
  {
   "cell_type": "code",
   "execution_count": null,
   "metadata": {},
   "outputs": [],
   "source": []
  }
 ],
 "metadata": {
  "kernelspec": {
   "display_name": "Python 3",
   "language": "python",
   "name": "python3"
  },
  "language_info": {
   "codemirror_mode": {
    "name": "ipython",
    "version": 3
   },
   "file_extension": ".py",
   "mimetype": "text/x-python",
   "name": "python",
   "nbconvert_exporter": "python",
   "pygments_lexer": "ipython3",
   "version": "3.7.1"
  }
 },
 "nbformat": 4,
 "nbformat_minor": 2
}
