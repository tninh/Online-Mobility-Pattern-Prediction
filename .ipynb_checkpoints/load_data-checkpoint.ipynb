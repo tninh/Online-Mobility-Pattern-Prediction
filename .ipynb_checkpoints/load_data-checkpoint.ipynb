{
 "cells": [
  {
   "cell_type": "code",
   "execution_count": 3,
   "metadata": {},
   "outputs": [],
   "source": [
    "'''\n",
    "Load data to a database\n",
    "'''\n",
    "\n",
    "# from hmmlearn import hmm\n",
    "import numpy as np\n",
    "import pandas as pd\n",
    "from collections import defaultdict\n",
    "import datetime\n",
    "# import pykovy-master/ \n",
    "# from pykovy.src.pykovy import chain\n",
    "# import sqlite3\n",
    "# from sqlalchemy import create_engine"
   ]
  },
  {
   "cell_type": "code",
   "execution_count": 4,
   "metadata": {},
   "outputs": [],
   "source": [
    "df = pd.read_csv('data_sample/ap.csv')\n",
    "df = df[['Client Username', 'Association Time','Map Location', 'Session Duration']]"
   ]
  },
  {
   "cell_type": "code",
   "execution_count": 5,
   "metadata": {},
   "outputs": [
    {
     "data": {
      "text/html": [
       "<div>\n",
       "<style scoped>\n",
       "    .dataframe tbody tr th:only-of-type {\n",
       "        vertical-align: middle;\n",
       "    }\n",
       "\n",
       "    .dataframe tbody tr th {\n",
       "        vertical-align: top;\n",
       "    }\n",
       "\n",
       "    .dataframe thead th {\n",
       "        text-align: right;\n",
       "    }\n",
       "</style>\n",
       "<table border=\"1\" class=\"dataframe\">\n",
       "  <thead>\n",
       "    <tr style=\"text-align: right;\">\n",
       "      <th></th>\n",
       "      <th>Client Username</th>\n",
       "      <th>Association Time</th>\n",
       "      <th>Map Location</th>\n",
       "      <th>Session Duration</th>\n",
       "    </tr>\n",
       "  </thead>\n",
       "  <tbody>\n",
       "    <tr>\n",
       "      <th>0</th>\n",
       "      <td>164c724c6f2e25d6cd2359216b6b37</td>\n",
       "      <td>Sat Feb 24 00:38:41 PST 2018</td>\n",
       "      <td>Campus Housing &gt; CVB &gt; Floor 11</td>\n",
       "      <td>7 hrs 25 min 57 sec</td>\n",
       "    </tr>\n",
       "    <tr>\n",
       "      <th>1</th>\n",
       "      <td>164c724c6f2e25d6cd2359216b6b37</td>\n",
       "      <td>Sat Feb 24 08:04:39 PST 2018</td>\n",
       "      <td>Campus Housing &gt; CVB &gt; Floor 11</td>\n",
       "      <td>8 hrs 10 min 25 sec</td>\n",
       "    </tr>\n",
       "    <tr>\n",
       "      <th>2</th>\n",
       "      <td>9913935871e9a863b55e16196eac09</td>\n",
       "      <td>Sat Feb 24 13:16:49 PST 2018</td>\n",
       "      <td>SJSUWIFI &gt; ENG &gt; Floor 4</td>\n",
       "      <td>2 hrs 58 min 15 sec</td>\n",
       "    </tr>\n",
       "    <tr>\n",
       "      <th>3</th>\n",
       "      <td>9c508d14b6f397cc7003a91bea4250</td>\n",
       "      <td>Fri Feb 23 16:38:44 PST 2018</td>\n",
       "      <td>SJSUWIFI &gt; ENG &gt; Floor 4</td>\n",
       "      <td>1 hrs 48 min 10 sec</td>\n",
       "    </tr>\n",
       "    <tr>\n",
       "      <th>4</th>\n",
       "      <td>9c508d14b6f397cc7003a91bea4250</td>\n",
       "      <td>Fri Feb 23 18:26:55 PST 2018</td>\n",
       "      <td>SJSUWIFI &gt; ENG &gt; Floor 4</td>\n",
       "      <td>10 min 26 sec</td>\n",
       "    </tr>\n",
       "  </tbody>\n",
       "</table>\n",
       "</div>"
      ],
      "text/plain": [
       "                  Client Username              Association Time  \\\n",
       "0  164c724c6f2e25d6cd2359216b6b37  Sat Feb 24 00:38:41 PST 2018   \n",
       "1  164c724c6f2e25d6cd2359216b6b37  Sat Feb 24 08:04:39 PST 2018   \n",
       "2  9913935871e9a863b55e16196eac09  Sat Feb 24 13:16:49 PST 2018   \n",
       "3  9c508d14b6f397cc7003a91bea4250  Fri Feb 23 16:38:44 PST 2018   \n",
       "4  9c508d14b6f397cc7003a91bea4250  Fri Feb 23 18:26:55 PST 2018   \n",
       "\n",
       "                      Map Location     Session Duration  \n",
       "0  Campus Housing > CVB > Floor 11  7 hrs 25 min 57 sec  \n",
       "1  Campus Housing > CVB > Floor 11  8 hrs 10 min 25 sec  \n",
       "2         SJSUWIFI > ENG > Floor 4  2 hrs 58 min 15 sec  \n",
       "3         SJSUWIFI > ENG > Floor 4  1 hrs 48 min 10 sec  \n",
       "4         SJSUWIFI > ENG > Floor 4        10 min 26 sec  "
      ]
     },
     "execution_count": 5,
     "metadata": {},
     "output_type": "execute_result"
    }
   ],
   "source": [
    "df.head()"
   ]
  },
  {
   "cell_type": "code",
   "execution_count": 6,
   "metadata": {},
   "outputs": [
    {
     "name": "stdout",
     "output_type": "stream",
     "text": [
      "13\n"
     ]
    }
   ],
   "source": [
    "def convertMonth(month):\n",
    "    if month == 'Jan': return 1\n",
    "    elif month == 'Feb': return 2\n",
    "    elif month == 'Mar': return 3\n",
    "    elif month == 'Apr': return 4\n",
    "    elif month == 'May': return 5\n",
    "    elif month == 'Jun': return 6\n",
    "    elif month == 'Jul': return 7\n",
    "    elif month == 'Aug': return 8\n",
    "    elif month == 'Sep': return 9\n",
    "    elif month == 'Oct': return 10\n",
    "    elif month == 'Nov': return 11\n",
    "    elif month == 'Dec': return 12\n",
    "    else: print('error input is not correct')\n",
    "        \n",
    "def convert_time_slot(time):\n",
    "    temp = (time.hour * 60 + time.minute) * 60 + time.second\n",
    "    return int(temp/(5*60) + 1)\n",
    "\n",
    "def convert_time(time):\n",
    "    return time.split(':')\n",
    "\n",
    "print(convert_time('13:42:56')[0])                              "
   ]
  },
  {
   "cell_type": "code",
   "execution_count": 8,
   "metadata": {},
   "outputs": [
    {
     "name": "stdout",
     "output_type": "stream",
     "text": [
      "{'9d1a4172a3ab3812d1567347a5397c': ['2018-02-24 00:00:00'], 'c11876629f43423f182fb966246496': ['2018-02-24 00:00:00'], '656d29b0b45c23e74ff14195a3297d': ['2018-02-23 00:00:00'], '75cb957510e0ce6f67afca9583e9cc': ['2018-02-23 00:00:00', '2018-02-24 00:00:00'], '43455986f5281f7acecf02dc377f7b': ['2018-02-23 00:00:00', '2018-02-24 00:00:00'], 'b153e827cebf86db4c7ea1dff3a0f8': ['2018-02-24 00:00:00'], 'eabe0a235883b232f70ae7f25f12d3': ['2018-02-23 00:00:00'], '164c724c6f2e25d6cd2359216b6b37': ['2018-02-24 00:00:00'], 'e136f6a832f9efb58f11fbbd17ffaa': ['2018-02-23 00:00:00'], 'd6f66f6ef442dbab938fc4a93f2e5d': ['2018-02-24 00:00:00'], '24d3bfb47233cb06c74c7196dbebd6': ['2018-02-24 00:00:00'], 'ddf266536ce2f6d676e3171e1e3121': ['2018-02-24 00:00:00'], '35d2ecdd1707938cb08b1661ff1f4d': ['2018-02-23 00:00:00', '2018-02-24 00:00:00'], 'a84a577666e68a43a6ab5ed44aebf4': ['2018-02-24 00:00:00'], 'e656b68788bdfcb36485d01daff436': ['2018-02-24 00:00:00'], '49c4625afdcd3cf0c7f945ac41ad5f': ['2018-02-23 00:00:00'], 'ec4e2778861c00c25ceb3ddbbf88b1': ['2018-02-23 00:00:00'], 'd347de54f0c1c7182a2ca8445449a7': ['2018-02-23 00:00:00'], '1d8216d8d1c26c1cd9cab35bbc658d': ['2018-02-24 00:00:00'], '391a5fd8f8f871da59a34622a535b8': ['2018-02-24 00:00:00'], '9d90eee610f1544de5042b632a8641': ['2018-02-23 00:00:00'], '9eb52f51adf3b7cb165cf0cd721e6d': ['2018-02-23 00:00:00'], '219e2add38456f892b6c02312f229b': ['2018-02-24 00:00:00'], 'd3b3b41117b2ab31bb069dc7271e5e': ['2018-02-24 00:00:00'], '2bc30fac01f978febfb0984af5e024': ['2018-02-24 00:00:00'], '72abc9a1967eba796afedefb6a5365': ['2018-02-23 00:00:00'], '4a6c709f4c20c6954267dd50a9525e': ['2018-02-24 00:00:00'], '48a6fb27b5b67126602d6bf48986c1': ['2018-02-23 00:00:00'], 'bd8ad4666fc8b995b5c72e021e4328': ['2018-02-24 00:00:00'], 'ea2d47ea5cc5ff0b9e1a638418638b': ['2018-02-24 00:00:00'], 'bafbf4984ff941650ef797383ef294': ['2018-02-24 00:00:00'], 'cd622586da7a80a87c62d6647aa7a1': ['2018-02-23 00:00:00'], 'bd8f9c1ce992f2867f7e0037e10605': ['2018-02-23 00:00:00'], '639c541a71e9d4875da0311268e50b': ['2018-02-24 00:00:00'], '174b67b8d243c3c1b0f8d2ea1e7b8b': ['2018-02-23 00:00:00'], '0ae0fe9c8917a8bcad978777004df0': ['2018-02-23 00:00:00'], 'a2ce9eab15c4e62c066a01a3ae3175': ['2018-02-23 00:00:00'], 'e3c8c5b18309c4a608c409e24e6a83': ['2018-02-23 00:00:00', '2018-02-24 00:00:00'], '9c508d14b6f397cc7003a91bea4250': ['2018-02-23 00:00:00', '2018-02-24 00:00:00'], '04bc1e28835c60276e738ee2649b21': ['2018-02-23 00:00:00', '2018-02-24 00:00:00'], 'b6b555ca3bc93170a572039dd3079a': ['2018-02-23 00:00:00'], 'ae6afee3b5ac48be068200c8e31379': ['2018-02-23 00:00:00'], '5ee105fec74471a7ae7a91c445e689': ['2018-02-24 00:00:00'], 'ebaba7630f54c5a92f762875313652': ['2018-02-23 00:00:00'], '45d8ba2d4a97926e217007721a8e08': ['2018-02-24 00:00:00'], '4e0b149cb2b7401195899b316d3d24': ['2018-02-23 00:00:00'], '7b37bca17ed7199885cb1dad61d403': ['2018-02-24 00:00:00'], 'fce21ee0985167718a2bffa09ec253': ['2018-02-23 00:00:00'], 'ebcdcefb28b56dd7a597d2df7dab6f': ['2018-02-24 00:00:00'], 'a58d8019daf38c4c1fe687dd434a58': ['2018-02-24 00:00:00'], '8a2546b99fbac21311bb84c9c3ecf7': ['2018-02-24 00:00:00'], '94117b105203ee258b971a1550f70f': ['2018-02-23 00:00:00', '2018-02-24 00:00:00'], '302319388eaf002342aab4109fcffe': ['2018-02-24 00:00:00'], '82a35c61bbd7b3df016f6346a5e6e7': ['2018-02-24 00:00:00'], '0708d1b579844a1591956fa4e8893c': ['2018-02-23 00:00:00'], '09cde7f6c844f513ab3ae184491c2a': ['2018-02-24 00:00:00'], '75ac36698fa5b69d1ba250fba1be85': ['2018-02-24 00:00:00'], 'af995bf3f7ea63d5e1c90a0e6b1ed4': ['2018-02-23 00:00:00'], '6d925bfb49371540519194b743544b': ['2018-02-24 00:00:00'], '300e84e6ec49eb0006e4b3bc94f33c': ['2018-02-24 00:00:00'], '1687fb3fe6d8415fa33e51b7cbafef': ['2018-02-23 00:00:00', '2018-02-24 00:00:00'], '6891a06d2cdf82bcb3f5aa8e932982': ['2018-02-23 00:00:00'], 'bab5b7612ed80dc7243052559b8a3a': ['2018-02-23 00:00:00'], 'ec1b80fdd227938eac54330c5627b2': ['2018-02-23 00:00:00', '2018-02-24 00:00:00'], '11ac339b98fcfe83b21279f5770952': ['2018-02-23 00:00:00'], '4643101f9fcaa709fa776a18403572': ['2018-02-23 00:00:00'], 'f9cb9594d76104f187e5bfd98d909b': ['2018-02-24 00:00:00'], 'e6eb3d142f3c1aebab65dd24d09bd6': ['2018-02-23 00:00:00'], 'febb807667814f6f7b76f1998ac60e': ['2018-02-24 00:00:00'], '4438da7eed787693529ddc17635a76': ['2018-02-24 00:00:00'], '7dfc59663df8b0d3042ae5af7c83a4': ['2018-02-24 00:00:00'], 'd8f8c782e2da1c2e94293365a168ee': ['2018-02-23 00:00:00'], '4176a04a27cdd20e2b99b51312abb4': ['2018-02-24 00:00:00'], '6099f9465b25b290805d08058d877f': ['2018-02-24 00:00:00', '2018-02-23 00:00:00'], '906e4a5a4f99b1e1546c353bd30c4d': ['2018-02-24 00:00:00'], '13c44d655fb60c90082c55f0feaf59': ['2018-02-23 00:00:00'], 'a8a7100f50589d57effa9183759ba3': ['2018-02-24 00:00:00'], '0abc7eb19af6e1fb67f7bcecd15463': ['2018-02-24 00:00:00'], 'cc3b9f13ef5b89a52c6aa2b7f5e198': ['2018-02-23 00:00:00', '2018-02-24 00:00:00'], '40252ecc6cccaf1934a85ee0fc6858': ['2018-02-23 00:00:00', '2018-02-24 00:00:00'], 'd68fa12feda93b0281973128b5f8db': ['2018-02-24 00:00:00', '2018-02-23 00:00:00'], '8660d06619028caaee27305575ad1f': ['2018-02-23 00:00:00'], '23e806909e34c915870c897417d478': ['2018-02-23 00:00:00'], '9d28466868e399db6fdda321bb5104': ['2018-02-23 00:00:00', '2018-02-24 00:00:00'], '8feda9dd2e451dfcf241c2401c2c2a': ['2018-02-23 00:00:00', '2018-02-24 00:00:00'], 'c802e7219c0d7fe0e48bcb150b82ea': ['2018-02-23 00:00:00'], 'cb2816e0052f079251c88a39c54e79': ['2018-02-23 00:00:00'], '6fce91d6600637282c9e75a8eeaa22': ['2018-02-24 00:00:00'], 'cce1c670a7a968ae18bc4ee2189d18': ['2018-02-24 00:00:00'], '51c8a0d32ab7ec6dc02119bf6d87bd': ['2018-02-23 00:00:00'], 'a885778e8e808366b669f5c3dfbff7': ['2018-02-23 00:00:00', '2018-02-24 00:00:00'], '071a43e180e9474ec57c5f7eaa9aa7': ['2018-02-24 00:00:00'], '9b90d59dfff901c6fa5aa63ae5f711': ['2018-02-24 00:00:00'], 'fea779033185665502d447bbbafbbb': ['2018-02-23 00:00:00', '2018-02-24 00:00:00'], '7fd7a604f64f3ed42eeb99debd3e19': ['2018-02-24 00:00:00'], '0f52415662c17e06ba9e9ab9ab9df5': ['2018-02-24 00:00:00'], '4e07f21b17657c293b648b2e35076a': ['2018-02-23 00:00:00', '2018-02-24 00:00:00'], '42fc9e325df1dbb69e4a1e5934faba': ['2018-02-24 00:00:00'], '6a51dd77c109a779752f8675566ddf': ['2018-02-23 00:00:00', '2018-02-24 00:00:00'], '9913935871e9a863b55e16196eac09': ['2018-02-24 00:00:00'], 'ab974e1e945636be69d4c9503ef6bd': ['2018-02-24 00:00:00'], '91a9f31df6118a2b15aaafc3de9700': ['2018-02-24 00:00:00'], '627104981ff9ad43400e5514fa8259': ['2018-02-23 00:00:00', '2018-02-24 00:00:00'], '822b39cd48720e2d3be3516c851fdc': ['2018-02-23 00:00:00'], '12bfeaa7c593183243dd803523cf1e': ['2018-02-23 00:00:00'], '30aeedd6b3e64b6023636573d3b322': ['2018-02-24 00:00:00'], 'f676797a8a38bbed7738ffadf69c4b': ['2018-02-24 00:00:00'], 'ef35be18a3b9e62109787dfcd6b381': ['2018-02-23 00:00:00', '2018-02-24 00:00:00'], '315781606a1ea5eeaaaa56402748af': ['2018-02-23 00:00:00'], 'ef9fcb249f462c2b03e2bb96457cca': ['2018-02-24 00:00:00'], '1c649ae0515f6adc3391cdce3198b6': ['2018-02-24 00:00:00'], '53be21cfed44462148179186449b6d': ['2018-02-23 00:00:00', '2018-02-24 00:00:00'], '47f1ff385cb2f0d2d8b62afcf057ab': ['2018-02-24 00:00:00'], '64c1e379dc233d90984476f4e38ac0': ['2018-02-23 00:00:00'], 'a3cdcbac05c7189681615509e49ed6': ['2018-02-23 00:00:00'], '41d8cd98f00b204e9800998ecf8427': ['2018-02-24 00:00:00'], 'ec4095d30aa6af275e8067dd9dc989': ['2018-02-24 00:00:00', '2018-02-23 00:00:00'], 'b658193e28d0edb5e10d090e29cbb8': ['2018-02-24 00:00:00'], '024d740b6bd5db3222a019628cee72': ['2018-02-24 00:00:00'], 'b26c94f9aa8deb94bfd9dcd5b85124': ['2018-02-23 00:00:00'], 'c77bea4cb6cf809a542e535bf82a61': ['2018-02-23 00:00:00', '2018-02-24 00:00:00'], '1330687e50153cd55e01885093b9aa': ['2018-02-23 00:00:00'], '1bd020921b75f610194e5625d6c715': ['2018-02-24 00:00:00'], 'f247fee43eae1dd7c5183fa7f45635': ['2018-02-23 00:00:00', '2018-02-24 00:00:00'], '5a71d24b68ba4ac3602db7d3826265': ['2018-02-24 00:00:00'], '2f6ba1323bfbe44893661c4896694a': ['2018-02-24 00:00:00'], '8fc74c8121658c382745184959f1ec': ['2018-02-24 00:00:00'], '5aeae9b1e774351c449c299d609283': ['2018-02-23 00:00:00'], '6a23f82d53baaf76607f6cdc79c97e': ['2018-02-23 00:00:00'], 'b539ce9207df7849b8d2d756181187': ['2018-02-23 00:00:00', '2018-02-24 00:00:00'], 'e91e27e1ee8348086a057732b2fba6': ['2018-02-23 00:00:00'], '1899ff1e1e0cbae8ece3275dd23131': ['2018-02-24 00:00:00'], '91774383b2ba8a57d8a36d31232c28': ['2018-02-23 00:00:00'], 'd1c70e9729277b901216d42c325af6': ['2018-02-24 00:00:00'], 'e4e25032053a15c9b66c3fd9e83552': ['2018-02-24 00:00:00'], '7594ae2e045909f537c7b6d66713f2': ['2018-02-23 00:00:00', '2018-02-24 00:00:00'], '1e5a87a12022d05ce78d2154e75318': ['2018-02-24 00:00:00'], '24aac2e06911e5baca073a96c56790': ['2018-02-24 00:00:00'], '97023e6a2939fbf6d45b7a6f6e2f65': ['2018-02-24 00:00:00']}\n"
     ]
    },
    {
     "data": {
      "text/plain": [
       "{'2018-02-23 00:00:00': 3, '2018-02-24 00:00:00': 3}"
      ]
     },
     "execution_count": 8,
     "metadata": {},
     "output_type": "execute_result"
    }
   ],
   "source": [
    "# Get number of users using an AP by date\n",
    "# need modification for more fine grain time\n",
    "# input is a panda dataframe\n",
    "def get_number_of_users_by_date(df):\n",
    "    df.shape[0]\n",
    "    temp = df.iloc[0,3].split()\n",
    "    #temp2 = df.iloc[0,2]\n",
    "    #temp2\n",
    "    result = {}\n",
    "    client_list = {}\n",
    "    for i in range(df.shape[0]):\n",
    "        association_time = df.iloc[i,1].split()\n",
    "        temp1 = df.iloc[i,3].split()\n",
    "        AP_name = df.iloc[i,2]\n",
    "        client_username = df.iloc[i,0]\n",
    "    \n",
    "        if len(temp1) == 2: sess_duration = int(temp1[0])\n",
    "        elif len(temp1) == 4: sess_duration = int(temp1[0]) * 60 + int(temp1[2])\n",
    "        elif len(temp1) == 6: sess_duration = (int(temp1[0]) * 60 + int(temp1[2])) * 60 + int(temp1[4])\n",
    "        else: print('error')\n",
    "\n",
    "        d_time = datetime.datetime(year=int(association_time[5]), \n",
    "                                   month=convertMonth(association_time[1]), \n",
    "                                   day=int(association_time[2]))\n",
    "        \n",
    "        if AP_name not in result:\n",
    "            # new AP, just add it to the list\n",
    "            day_dict = {}\n",
    "            day_dict[str(d_time)] = 1\n",
    "            result[AP_name] = day_dict\n",
    "            client_list[client_username] = []\n",
    "            client_list[client_username].append(str(d_time))\n",
    "        else:\n",
    "            if result[AP_name].get(str(d_time)):\n",
    "                # time entry already in the list\n",
    "                # need to check if the user is already counted\n",
    "                # if not, then add this in the list\n",
    "                if client_username not in client_list:\n",
    "                    result[AP_name][str(d_time)] += 1\n",
    "                    client_list[client_username] = []\n",
    "                    client_list[client_username].append(str(d_time))\n",
    "                    #client_list[client_username] = 1\n",
    "                else:\n",
    "                    if str(d_time) not in client_list[client_username]:\n",
    "                        result[AP_name][str(d_time)] += 1\n",
    "                        client_list[client_username].append(str(d_time))\n",
    "            else:\n",
    "                # new time entry, just add it to the list\n",
    "                result[AP_name][str(d_time)] = 1\n",
    "                client_list[client_username] = []\n",
    "                client_list[client_username].append(str(d_time))\n",
    "                #client_list[client_username] = 1\n",
    "    \n",
    "    print(client_list)\n",
    "    return result   \n",
    "    #data_dict2[df.iloc[i,0]].append([d_time, df.iloc[i,2], sess_duration])\n",
    "\n",
    "output = get_number_of_users_by_date(df)\n",
    "output['Campus Housing > CV2 > 4th floor']"
   ]
  },
  {
   "cell_type": "code",
   "execution_count": 37,
   "metadata": {},
   "outputs": [
    {
     "data": {
      "text/plain": [
       "{'2018-02-23 17:00:00': 1,\n",
       " '2018-02-23 18:00:00': 1,\n",
       " '2018-02-23 19:00:00': 1,\n",
       " '2018-02-23 20:00:00': 1,\n",
       " '2018-02-23 21:00:00': 1,\n",
       " '2018-02-23 22:00:00': 3,\n",
       " '2018-02-23 23:00:00': 1,\n",
       " '2018-02-24 00:00:00': 1,\n",
       " '2018-02-24 11:00:00': 1,\n",
       " '2018-02-24 12:00:00': 2,\n",
       " '2018-02-24 13:00:00': 1,\n",
       " '2018-02-24 14:00:00': 1,\n",
       " '2018-02-24 15:00:00': 1,\n",
       " '2018-02-23 16:00:00': 1,\n",
       " '2018-02-24 01:00:00': 1,\n",
       " '2018-02-24 02:00:00': 1,\n",
       " '2018-02-24 03:00:00': 1}"
      ]
     },
     "execution_count": 37,
     "metadata": {},
     "output_type": "execute_result"
    }
   ],
   "source": [
    "# Get number of users using an AP by date\n",
    "# need modification for more fine grain time\n",
    "# input is a panda dataframe\n",
    "# TODO: need to check for user_name\n",
    "def get_number_of_users_by_date(df):\n",
    "    df.shape[0]\n",
    "    temp = df.iloc[0,3].split()\n",
    "    #temp2 = df.iloc[0,2]\n",
    "    #temp2\n",
    "    result = {}\n",
    "    client_list = {}\n",
    "    for i in range(df.shape[0]):\n",
    "        association_time = df.iloc[i,1].split()\n",
    "        temp1 = df.iloc[i,3].split()\n",
    "        AP_name = df.iloc[i,2]\n",
    "        client_username = df.iloc[i,1]\n",
    "    \n",
    "        if len(temp1) == 2: sess_duration = int(temp1[0])\n",
    "        elif len(temp1) == 4: sess_duration = int(temp1[0]) * 60 + int(temp1[2])\n",
    "        elif len(temp1) == 6: sess_duration = (int(temp1[0]) * 60 + int(temp1[2])) * 60 + int(temp1[4])\n",
    "        else: print('error')\n",
    "\n",
    "        d_time = datetime.datetime(year=int(association_time[5]), \n",
    "                                   month=convertMonth(association_time[1]), \n",
    "                                   day=int(association_time[2]),\n",
    "                                   hour=int(convert_time(association_time[3])[0]))\n",
    "        \n",
    "        if AP_name not in result:\n",
    "            # new AP, just add it to the list\n",
    "            day_dict = {}\n",
    "            day_dict[str(d_time)] = 1\n",
    "            result[AP_name] = day_dict\n",
    "            client_list[client_username] = 1\n",
    "        else:  \n",
    "            if result[AP_name].get(str(d_time)):\n",
    "                # time entry already in the list\n",
    "                # need to check if the user is already counted\n",
    "                # if not, then add this in the list\n",
    "                if client_username not in client_list:\n",
    "                    result[AP_name][str(d_time)] += 1\n",
    "                    client_list[client_username] = 1\n",
    "            else:\n",
    "                # new time entry, just add it to the list\n",
    "                result[AP_name][str(d_time)] = 1\n",
    "                client_list[client_username] = 1\n",
    "            \n",
    "    return result   \n",
    "    #data_dict2[df.iloc[i,0]].append([d_time, df.iloc[i,2], sess_duration])\n",
    "\n",
    "output = get_number_of_users_by_date(df)\n",
    "output['Campus Housing > CV2 > 4th floor']"
   ]
  },
  {
   "cell_type": "code",
   "execution_count": null,
   "metadata": {},
   "outputs": [],
   "source": []
  },
  {
   "cell_type": "code",
   "execution_count": null,
   "metadata": {},
   "outputs": [],
   "source": []
  },
  {
   "cell_type": "code",
   "execution_count": null,
   "metadata": {
    "scrolled": true
   },
   "outputs": [],
   "source": []
  },
  {
   "cell_type": "code",
   "execution_count": null,
   "metadata": {},
   "outputs": [],
   "source": []
  },
  {
   "cell_type": "code",
   "execution_count": null,
   "metadata": {},
   "outputs": [],
   "source": []
  }
 ],
 "metadata": {
  "kernelspec": {
   "display_name": "Python 2",
   "language": "python",
   "name": "python2"
  },
  "language_info": {
   "codemirror_mode": {
    "name": "ipython",
    "version": 2
   },
   "file_extension": ".py",
   "mimetype": "text/x-python",
   "name": "python",
   "nbconvert_exporter": "python",
   "pygments_lexer": "ipython2",
   "version": "2.7.15"
  }
 },
 "nbformat": 4,
 "nbformat_minor": 2
}
