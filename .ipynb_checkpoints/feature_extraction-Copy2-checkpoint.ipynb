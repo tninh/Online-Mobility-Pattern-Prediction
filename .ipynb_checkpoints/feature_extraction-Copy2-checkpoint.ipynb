{
 "cells": [
  {
   "cell_type": "code",
   "execution_count": 4,
   "metadata": {},
   "outputs": [],
   "source": [
    "# from hmmlearn import hmm\n",
    "import numpy as np\n",
    "import pandas as pd\n",
    "from collections import defaultdict\n",
    "import datetime\n",
    "# import pykovy-master/ \n",
    "from pykovy.src.pykovy import chain"
   ]
  },
  {
   "cell_type": "code",
   "execution_count": 5,
   "metadata": {},
   "outputs": [],
   "source": [
    "\n",
    "# np.random.seed(42)\n",
    "\n",
    "# model = hmm.GaussianHMM(n_components=3, covariance_type=\"full\")\n",
    "# model.startprob_ = np.array([0.6, 0.3, 0.1])\n",
    "# model.transmat_ = np.array([[0.7, 0.2, 0.1],\n",
    "#                             [0.3, 0.5, 0.2],\n",
    "#                             [0.3, 0.3, 0.4]])\n",
    "# model.means_ = np.array([[0.0, 0.0], [3.0, -3.0], [5.0, 10.0]])\n",
    "# model.covars_ = np.tile(np.identity(2), (3, 1, 1))\n",
    "# X, Z = model.sample(100)"
   ]
  },
  {
   "cell_type": "code",
   "execution_count": 6,
   "metadata": {},
   "outputs": [],
   "source": [
    "df = pd.read_csv('../all_data.csv')\n",
    "df = df[['Client Username', 'Association Time', 'Map Location', 'Session Duration']]"
   ]
  },
  {
   "cell_type": "code",
   "execution_count": null,
   "metadata": {
    "scrolled": true
   },
   "outputs": [],
   "source": []
  },
  {
   "cell_type": "code",
   "execution_count": 7,
   "metadata": {},
   "outputs": [],
   "source": [
    "def convertMonth(month):\n",
    "    if month == 'Jan': return 1\n",
    "    elif month == 'Feb': return 2\n",
    "    elif month == 'Mar': return 3\n",
    "    elif month == 'Apr': return 4\n",
    "    elif month == 'May': return 5\n",
    "    elif month == 'Jun': return 6\n",
    "    elif month == 'Jul': return 7\n",
    "    elif month == 'Aug': return 8\n",
    "    elif month == 'Sep': return 9\n",
    "    elif month == 'Oct': return 10\n",
    "    elif month == 'Nov': return 11\n",
    "    elif month == 'Dec': return 12\n",
    "    else: print('error input is not correct')\n",
    "        \n",
    "def convert_to_timeslot(duration):\n",
    "    temp = duration.split()\n",
    "    if len(temp) == 2: sess_duration = int(temp[0])\n",
    "    elif len(temp) == 4: sess_duration = int(temp[0]) * 60 + int(temp[2])\n",
    "    elif len(temp) == 6: sess_duration = (int(temp[0]) * 60 + int(temp[2])) * 60 + int(temp[4])\n",
    "    else: print('error')\n",
    "    return datetime.timedelta(seconds=sess_duration)\n",
    "\n",
    "def convert_to_datetime(time):\n",
    "    temp = time.split()\n",
    "    d_time = datetime.datetime(year=int(temp[5]), month=convertMonth(temp[1]), day=int(temp[2]), hour=int(temp[3].split(':')[0]), minute=int(temp[3].split(':')[1]), second=int(temp[3].split(':')[2]))\n",
    "    return d_time\n"
   ]
  },
  {
   "cell_type": "code",
   "execution_count": 8,
   "metadata": {
    "scrolled": true
   },
   "outputs": [
    {
     "name": "stdout",
     "output_type": "stream",
     "text": [
      "0\n",
      "100000\n",
      "200000\n",
      "300000\n",
      "400000\n",
      "500000\n",
      "600000\n",
      "700000\n",
      "800000\n",
      "900000\n",
      "1000000\n",
      "1100000\n",
      "1200000\n",
      "1300000\n",
      "1400000\n",
      "1500000\n",
      "1600000\n",
      "1700000\n",
      "1800000\n",
      "1900000\n",
      "2000000\n",
      "2100000\n",
      "2200000\n",
      "2300000\n",
      "2400000\n",
      "2500000\n",
      "2600000\n",
      "2700000\n",
      "2800000\n",
      "2900000\n",
      "3000000\n",
      "3100000\n",
      "3200000\n",
      "3300000\n",
      "3400000\n",
      "3500000\n",
      "3600000\n",
      "3700000\n",
      "3800000\n",
      "3900000\n",
      "4000000\n",
      "4100000\n",
      "4200000\n",
      "4300000\n",
      "4400000\n",
      "4500000\n",
      "4600000\n",
      "4700000\n",
      "4800000\n",
      "4900000\n",
      "5000000\n",
      "5100000\n",
      "5200000\n",
      "5300000\n",
      "5400000\n",
      "5500000\n",
      "5600000\n",
      "5700000\n",
      "5800000\n",
      "5900000\n",
      "6000000\n",
      "6100000\n"
     ]
    }
   ],
   "source": [
    "d = {'Client_Username': [1, 2]}\n",
    "new_df = pd.DataFrame(data=d)\n",
    "data_list = []\n",
    "c=0\n",
    "for i in range(df.shape[0]):\n",
    "    if c%100000 == 0:\n",
    "        print(c)\n",
    "    sess = convert_to_timeslot(df.iloc[i,3])\n",
    "    s_time = convert_to_datetime(df.iloc[i,1])\n",
    "    e_time = s_time + sess\n",
    "    data_list.append([df.iloc[i,0], df.iloc[i,2], s_time, e_time, sess])\n",
    "    c+=1\n"
   ]
  },
  {
   "cell_type": "code",
   "execution_count": 9,
   "metadata": {
    "scrolled": true
   },
   "outputs": [
    {
     "name": "stdout",
     "output_type": "stream",
     "text": [
      "0\n",
      "100000\n",
      "200000\n",
      "300000\n",
      "400000\n",
      "500000\n",
      "600000\n",
      "700000\n",
      "800000\n",
      "900000\n",
      "1000000\n",
      "1100000\n",
      "1200000\n",
      "1300000\n",
      "1400000\n",
      "1500000\n",
      "1600000\n",
      "1700000\n",
      "1800000\n",
      "1900000\n",
      "2000000\n",
      "2100000\n",
      "2200000\n",
      "2300000\n",
      "2400000\n",
      "2500000\n",
      "2600000\n",
      "2700000\n",
      "2800000\n",
      "2900000\n",
      "3000000\n",
      "3100000\n",
      "3200000\n",
      "3300000\n",
      "3400000\n",
      "3500000\n",
      "3600000\n",
      "3700000\n",
      "3800000\n",
      "3900000\n",
      "4000000\n",
      "4100000\n",
      "4200000\n",
      "4300000\n",
      "4400000\n",
      "4500000\n",
      "4600000\n",
      "4700000\n",
      "4800000\n",
      "4900000\n",
      "5000000\n",
      "5100000\n",
      "5200000\n",
      "5300000\n",
      "5400000\n",
      "5500000\n",
      "5600000\n",
      "5700000\n",
      "5800000\n",
      "5900000\n",
      "6000000\n",
      "6100000\n"
     ]
    }
   ],
   "source": [
    "c = 0\n",
    "for i in reversed(range(1, df.shape[0])):\n",
    "    if c%100000 == 0: print(c)\n",
    "    if data_list[i][0] == data_list[i-1][0] and data_list[i][1] == data_list[i-1][1]:\n",
    "        data_list[i-1][4] += data_list[i][4]\n",
    "    c+=1"
   ]
  },
  {
   "cell_type": "code",
   "execution_count": 52,
   "metadata": {
    "scrolled": true
   },
   "outputs": [],
   "source": [
    "final_data_list = []\n",
    "i = 0\n",
    "while i < df.shape[0]-1:\n",
    "    if data_list[i][0] == data_list[i+1][0] and data_list[i][1] == data_list[i+1][1]:\n",
    "        final_data_list.append(data_list[i])\n",
    "        c = 2\n",
    "        while data_list[i][0] == data_list[i+c][0] and data_list[i][1] == data_list[i+c][1]:\n",
    "            c += 1\n",
    "        i += c\n",
    "\n",
    "    else:\n",
    "        final_data_list.append(data_list[i])\n",
    "        i += 1\n",
    "\n",
    "if not (final_data_list[-1][0] == data_list[-1][0] and final_data_list[-1][1] == data_list[-1][1]):\n",
    "    final_data_list.append(data_list[-1])\n",
    "    "
   ]
  },
  {
   "cell_type": "code",
   "execution_count": 55,
   "metadata": {},
   "outputs": [
    {
     "name": "stdout",
     "output_type": "stream",
     "text": [
      "2800037\n",
      "6114987\n",
      "['0a5f09c823f2f07c940400e63ca86c', 'SJSUWIFI > CLARK > Floor 3', datetime.datetime(2018, 6, 25, 9, 25, 10), datetime.datetime(2018, 6, 25, 9, 35, 44), datetime.timedelta(seconds=634)]\n",
      "['0a5f09c823f2f07c940400e63ca86c', 'SJSUWIFI > CLARK > Floor 4', datetime.datetime(2018, 6, 25, 11, 4, 3), datetime.datetime(2018, 6, 25, 11, 9, 8), datetime.timedelta(seconds=4016)]\n",
      "['0a5f09c823f2f07c940400e63ca86c', 'SJSUWIFI > CLARK > Floor 3', datetime.datetime(2018, 6, 25, 13, 39, 29), datetime.datetime(2018, 6, 25, 13, 49, 45), datetime.timedelta(seconds=616)]\n",
      "['0a5f09c823f2f07c940400e63ca86c', 'SJSUWIFI > CLARK > Floor 4', datetime.datetime(2018, 6, 25, 15, 7, 25), datetime.datetime(2018, 6, 25, 15, 33, 22), datetime.timedelta(seconds=3768)]\n",
      "['0a5f09c823f2f07c940400e63ca86c', 'SJSUWIFI > SH > Floor 3', datetime.datetime(2018, 6, 25, 16, 15, 32), datetime.datetime(2018, 6, 25, 16, 15, 52), datetime.timedelta(seconds=20)]\n"
     ]
    }
   ],
   "source": [
    "print(len(final_data_list))\n",
    "print(len(data_list))\n",
    "for i in range(df.shape[0]):\n",
    "    print(final_data_list[-5])\n",
    "    print(final_data_list[-4])\n",
    "    print(final_data_list[-3])\n",
    "    print(final_data_list[-2])\n",
    "    print(final_data_list[-1])\n",
    "    break"
   ]
  },
  {
   "cell_type": "code",
   "execution_count": 56,
   "metadata": {},
   "outputs": [],
   "source": [
    "for i in range(len(final_data_list)):\n",
    "    final_data_list[i][3] = final_data_list[i][2] + final_data_list[i][4] "
   ]
  },
  {
   "cell_type": "code",
   "execution_count": 27,
   "metadata": {},
   "outputs": [],
   "source": []
  },
  {
   "cell_type": "code",
   "execution_count": null,
   "metadata": {
    "scrolled": true
   },
   "outputs": [],
   "source": []
  },
  {
   "cell_type": "code",
   "execution_count": null,
   "metadata": {},
   "outputs": [],
   "source": []
  },
  {
   "cell_type": "code",
   "execution_count": null,
   "metadata": {},
   "outputs": [],
   "source": []
  },
  {
   "cell_type": "code",
   "execution_count": null,
   "metadata": {},
   "outputs": [],
   "source": [
    "def make_data(time_window_in_sec = 600):\n",
    "    for ap in data_dict:\n",
    " \n",
    "def convert_time_slot(time):\n",
    "    temp = (time.hour * 60 + time.minute) * 60 + time.second\n",
    "    return int(temp/(5*60) + 1)"
   ]
  }
 ],
 "metadata": {
  "kernelspec": {
   "display_name": "Python 3",
   "language": "python",
   "name": "python3"
  },
  "language_info": {
   "codemirror_mode": {
    "name": "ipython",
    "version": 3
   },
   "file_extension": ".py",
   "mimetype": "text/x-python",
   "name": "python",
   "nbconvert_exporter": "python",
   "pygments_lexer": "ipython3",
   "version": "3.7.0"
  }
 },
 "nbformat": 4,
 "nbformat_minor": 2
}
