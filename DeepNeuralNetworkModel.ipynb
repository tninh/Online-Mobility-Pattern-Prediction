{
 "cells": [
  {
   "cell_type": "code",
   "execution_count": null,
   "metadata": {},
   "outputs": [],
   "source": [
    "import pandas as pd\n",
    "import numpy as np\n",
    "import tensorflow as tf\n",
    "import matplotlib.pyplot as plt"
   ]
  },
  {
   "cell_type": "code",
   "execution_count": null,
   "metadata": {},
   "outputs": [],
   "source": [
    "df = pd.read_csv('data.csv', index_col=0)"
   ]
  },
  {
   "cell_type": "code",
   "execution_count": null,
   "metadata": {},
   "outputs": [],
   "source": [
    "# train_set, test_set = split_train_test(df, 0.2)\n",
    "x = df.iloc[:, 0:-1]\n",
    "y = df.iloc[:, -1]\n",
    "from sklearn.cross_validation import train_test_split\n",
    "x_train, x_test, y_train, y_test = train_test_split(x, y, test_size=0.33, random_state=42)\n",
    "print('Finished train test split!')"
   ]
  },
  {
   "cell_type": "code",
   "execution_count": null,
   "metadata": {},
   "outputs": [],
   "source": [
    "# x_train = train_set.iloc[:, 0:-1]\n",
    "# y_train = train_set.iloc[:, -1]\n",
    "# x_test = test_set.iloc[:, 0:-1]\n",
    "# y_test = test_set.iloc[:, -1]"
   ]
  },
  {
   "cell_type": "code",
   "execution_count": null,
   "metadata": {},
   "outputs": [],
   "source": [
    "from sklearn.preprocessing import MaxAbsScaler\n",
    "scaler = MaxAbsScaler()\n",
    "x_train_norm = pd.DataFrame(scaler.fit_transform(x_train))\n",
    "x_test_norm = pd.DataFrame(scaler.fit_transform(x_test))\n",
    "print('Normalized x_train \\n', x_train_norm.head())\n",
    "print('Normalized x_test \\n', x_test_norm.head())"
   ]
  },
  {
   "cell_type": "code",
   "execution_count": null,
   "metadata": {},
   "outputs": [],
   "source": [
    "indices = y_train\n",
    "depth = 199\n",
    "a = tf.one_hot(indices, depth, on_value = 1.0, off_value = 0.0, axis=1)\n",
    "with tf.Session() as sess:\n",
    "    y_train_encoded = sess.run(a)\n",
    "print('y_train head: \\n', y_train_encoded[0:5])"
   ]
  },
  {
   "cell_type": "code",
   "execution_count": null,
   "metadata": {},
   "outputs": [],
   "source": [
    "indices = y_test\n",
    "depth = 199\n",
    "b = tf.one_hot(indices, depth, on_value = 1.0, off_value = 0.0, axis=1)\n",
    "with tf.Session() as sess:\n",
    "    y_test_encoded = sess.run(b)\n",
    "print('y_test head: \\n', y_test_encoded[0:5])"
   ]
  },
  {
   "cell_type": "code",
   "execution_count": null,
   "metadata": {},
   "outputs": [],
   "source": [
    "import keras\n",
    "from keras.models import Sequential\n",
    "from keras.layers import Dense, Dropout, Activation\n",
    "from keras.optimizers import SGD\n",
    "\n",
    "model = Sequential()\n",
    "model.add(Dense(64, activation='relu', input_dim=x_train.shape[1]))\n",
    "model.add(Dropout(0.5))\n",
    "model.add(Dense(64, activation='relu'))\n",
    "model.add(Dropout(0.5))\n",
    "model.add(Dense(y_train_encoded.shape[1], activation='softmax'))\n",
    "sgd = SGD(lr=0.01, decay=1e-6, momentum=0.9, nesterov=True)\n",
    "model.compile(loss='categorical_crossentropy',\n",
    "          optimizer=sgd,\n",
    "          metrics=['accuracy'])\n",
    "model.fit(x_train, y_train_encoded,\n",
    "          epochs=20,\n",
    "          batch_size=128, validation_split=0.2)\n",
    "score = model.evaluate(x_test, y_test_encoded, batch_size=128)\n"
   ]
  },
  {
   "cell_type": "code",
   "execution_count": null,
   "metadata": {},
   "outputs": [],
   "source": []
  }
 ],
 "metadata": {
  "kernelspec": {
   "display_name": "Python 3",
   "language": "python",
   "name": "python3"
  },
  "language_info": {
   "codemirror_mode": {
    "name": "ipython",
    "version": 3
   },
   "file_extension": ".py",
   "mimetype": "text/x-python",
   "name": "python",
   "nbconvert_exporter": "python",
   "pygments_lexer": "ipython3",
   "version": "3.7.1"
  }
 },
 "nbformat": 4,
 "nbformat_minor": 2
}
