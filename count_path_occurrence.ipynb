{
 "cells": [
  {
   "cell_type": "code",
   "execution_count": 1,
   "metadata": {},
   "outputs": [],
   "source": [
    "def count_path_occurrence(raw_string_list, substring_list):\n",
    "    count = 0\n",
    "    for i in range(len(raw_string_list)):\n",
    "        for j in range(len(raw_string_list[i])):\n",
    "            if raw_string_list[i][j:j + len(substring_list)] == substring_list:\n",
    "                count += 1\n",
    "    print(count)"
   ]
  },
  {
   "cell_type": "code",
   "execution_count": 4,
   "metadata": {},
   "outputs": [
    {
     "name": "stdout",
     "output_type": "stream",
     "text": [
      "2\n"
     ]
    }
   ],
   "source": [
    "a = [['a', '1', 'c'], ['9', 'a', '1', 'd']]\n",
    "b = ['a', '1']\n",
    "count_path_occurrence(a, b)"
   ]
  },
  {
   "cell_type": "code",
   "execution_count": 1,
   "metadata": {},
   "outputs": [],
   "source": [
    "#figure out how many times substring occurs in raw string,\n",
    "# exactly matching (time -> ap) pair\n",
    "def count_path_occurrence_with_time(raw_string_dict, substring_dict):\n",
    "    count = 0\n",
    "    for day_dict in raw_string_dict.values():\n",
    "        if substring_dict.items() <= day_dict.items():\n",
    "            count += 1\n",
    "    print(count)"
   ]
  },
  {
   "cell_type": "code",
   "execution_count": 2,
   "metadata": {},
   "outputs": [
    {
     "name": "stdout",
     "output_type": "stream",
     "text": [
      "2\n"
     ]
    }
   ],
   "source": [
    "raw = {'day1': {'5:00': '80', '6:00': '78', '7:00': '99', '8:00': '209'},\n",
    "       'day2': {'5:00': '80', '6:00': '78', '7:00': '99', '8:00': '22'},\n",
    "       'day3': {'4:00': '80', '5:00': '78', '6:00': '99'},\n",
    "       'day4': {'4:00': '6', '5:00': '80', '6:00': '78', '7:00': '100'},\n",
    "       'day5': {'5:00': '80', '6:00': '80', '7:00': '99'}}\n",
    "\n",
    "sub = {'5:00': '80', '6:00': '78', '7:00': '99'}\n",
    "count_path_occurrence_with_time(raw, sub)"
   ]
  },
  {
   "cell_type": "code",
   "execution_count": null,
   "metadata": {},
   "outputs": [],
   "source": []
  }
 ],
 "metadata": {
  "kernelspec": {
   "display_name": "Python 3",
   "language": "python",
   "name": "python3"
  },
  "language_info": {
   "codemirror_mode": {
    "name": "ipython",
    "version": 3
   },
   "file_extension": ".py",
   "mimetype": "text/x-python",
   "name": "python",
   "nbconvert_exporter": "python",
   "pygments_lexer": "ipython3",
   "version": "3.6.3"
  }
 },
 "nbformat": 4,
 "nbformat_minor": 2
}
